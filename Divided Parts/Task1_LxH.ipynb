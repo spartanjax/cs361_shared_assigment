{
 "cells": [
  {
   "cell_type": "markdown",
   "id": "5ed1e52c",
   "metadata": {},
   "source": [
    "### Task 1"
   ]
  },
  {
   "cell_type": "markdown",
   "id": "f55e9bb3",
   "metadata": {},
   "source": [
    "(a) Load the dataset and construct a feature vector for each article in the entire dataset. You\n",
    "need to report the number of articles, and the number of extracted features. Show 5 example\n",
    "articles with their extracted features using a dataframe."
   ]
  },
  {
   "cell_type": "code",
   "execution_count": null,
   "id": "13e2de57",
   "metadata": {},
   "outputs": [],
   "source": []
  },
  {
   "cell_type": "markdown",
   "id": "291a6745",
   "metadata": {},
   "source": [
    "(b) Conduct term frequency analysis and report three plots: (i) top-50 term frequency distribution\n",
    "across the entire dataset, (ii) term frequency distribution for respective class of articles, and (iii)\n",
    "class distribution."
   ]
  },
  {
   "cell_type": "code",
   "execution_count": null,
   "id": "bfb1e999",
   "metadata": {},
   "outputs": [],
   "source": []
  }
 ],
 "metadata": {
  "language_info": {
   "name": "python"
  }
 },
 "nbformat": 4,
 "nbformat_minor": 5
}
