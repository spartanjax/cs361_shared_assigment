{
 "cells": [
  {
   "cell_type": "code",
   "execution_count": null,
   "id": "a8ddbfb4",
   "metadata": {},
   "outputs": [],
   "source": [
    "import pandas as pd\n",
    "import numpy as np\n",
    "from sklearn.model_selection import train_test_split\n",
    "\n",
    "# Load dataset\n",
    "df = pd.read_csv(\"../../train.csv\")\n",
    "X = df[\"Text\"].values\n",
    "y = df[\"Category\"].values\n",
    "m = 0.9 #proportion of data for training vs validation\n",
    "X_train, X_val, y_train, y_val = train_test_split(X, y, train_size=m, random_state=42, shuffle=True)"
   ]
  },
  {
   "cell_type": "markdown",
   "id": "a78d1cec",
   "metadata": {},
   "source": [
    "### Task 2"
   ]
  },
  {
   "cell_type": "markdown",
   "id": "dbae98f0",
   "metadata": {},
   "source": [
    "(b) kNN. Train a kNN classifier on the training dataset. You need to report the surface plot of\n",
    "your kNN with your choice of hyperparameters k and distance metric. Explain the impact of k\n",
    "and the distance metric on the decision boundary. [1 pt] "
   ]
  },
  {
   "cell_type": "code",
   "execution_count": null,
   "id": "257ba117",
   "metadata": {},
   "outputs": [],
   "source": [
    "#code classifier "
   ]
  },
  {
   "cell_type": "markdown",
   "id": "6639512b",
   "metadata": {},
   "source": [
    "### Task 3"
   ]
  },
  {
   "cell_type": "markdown",
   "id": "a72002d5",
   "metadata": {},
   "source": [
    "(a) We explore how the size of the training data set affects the test and train accuracy. For each\n",
    "value of m in [0.1, 0.3, 0.5, 0.7, 0.9], train your classifier on the first m portion of the training\n",
    "examples (that is, use the data given by XTrain[0:mN] and yTrain[0:mN]). Please report two\n",
    "plots: (i) training and (ii) testing accuracy for each such value of m with the x-axis referring to m\n",
    "and the y-axis referring to the classification accuracy in 𝐹1 measure as shown below. In total,\n",
    "there should be four curves for training accuracy and four curves for testing accuracy. Explain\n",
    "the general trend of the two plots in terms of training and testing accuracy if any."
   ]
  },
  {
   "cell_type": "code",
   "execution_count": null,
   "id": "753e48e2",
   "metadata": {},
   "outputs": [],
   "source": [
    "#train classifier on different training sizes"
   ]
  },
  {
   "cell_type": "markdown",
   "id": "49d8471a",
   "metadata": {},
   "source": [
    "(b) Let’s use 5-fold cross-validation to assess model performance. Investigate the impact of key\n",
    "hyperparameters of your choices for each classifier using a testing dataset. E.g., for SVM, the\n",
    "classification accuracy may be significantly affected by the kernels and hyperparameter\n",
    "combination. List hyperparameters for each classifier and demonstrate how these\n",
    "hyperparameters impact on the testing accuracy."
   ]
  },
  {
   "cell_type": "code",
   "execution_count": null,
   "id": "4c523aed",
   "metadata": {},
   "outputs": [],
   "source": [
    "#use 5-fold CV to assess performance, experiment w diff hyperparams"
   ]
  }
 ],
 "metadata": {
  "kernelspec": {
   "display_name": "Python 3",
   "language": "python",
   "name": "python3"
  },
  "language_info": {
   "codemirror_mode": {
    "name": "ipython",
    "version": 3
   },
   "file_extension": ".py",
   "mimetype": "text/x-python",
   "name": "python",
   "nbconvert_exporter": "python",
   "pygments_lexer": "ipython3",
   "version": "3.13.3"
  }
 },
 "nbformat": 4,
 "nbformat_minor": 5
}
