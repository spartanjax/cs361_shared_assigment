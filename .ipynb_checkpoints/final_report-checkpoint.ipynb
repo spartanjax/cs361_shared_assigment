{
 "cells": [
  {
   "cell_type": "markdown",
   "id": "fc3190bf",
   "metadata": {},
   "source": [
    "# CS361 Group Assignment"
   ]
  },
  {
   "cell_type": "markdown",
   "id": "e682a2e1",
   "metadata": {},
   "source": [
    "Group Members: Lucy Harris (lhar917), Hayley Sharpe (hsha609), Kunal Bhaskar (kbha962), Jackson Fontaine (jfon971), Seth Gousmett (sgou398)"
   ]
  },
  {
   "cell_type": "markdown",
   "id": "06600171",
   "metadata": {},
   "source": [
    "## Task 1"
   ]
  },
  {
   "cell_type": "markdown",
   "id": "df140ee0",
   "metadata": {},
   "source": [
    "(a) Load the dataset and construct a feature vector for each article in the entire dataset. You\n",
    "need to report the number of articles, and the number of extracted features. Show 5 example\n",
    "articles with their extracted features using a dataframe."
   ]
  },
  {
   "cell_type": "code",
   "execution_count": null,
   "id": "c674bef5",
   "metadata": {},
   "outputs": [],
   "source": []
  },
  {
   "cell_type": "markdown",
   "id": "9af7439f",
   "metadata": {},
   "source": [
    "(b) Conduct term frequency analysis and report three plots: (i) top-50 term frequency distribution\n",
    "across the entire dataset, (ii) term frequency distribution for respective class of articles, and (iii)\n",
    "class distribution."
   ]
  },
  {
   "cell_type": "code",
   "execution_count": null,
   "id": "de78e4ed",
   "metadata": {},
   "outputs": [],
   "source": []
  },
  {
   "cell_type": "markdown",
   "id": "b9ced531",
   "metadata": {},
   "source": [
    "## Task 2"
   ]
  },
  {
   "cell_type": "markdown",
   "id": "6aa08076",
   "metadata": {},
   "source": [
    "#### Part A - Naive Bayes"
   ]
  },
  {
   "cell_type": "code",
   "execution_count": null,
   "id": "59a14568",
   "metadata": {},
   "outputs": [],
   "source": []
  },
  {
   "cell_type": "markdown",
   "id": "077e105b",
   "metadata": {},
   "source": [
    "#### Part B - K-Nearest Neighbors"
   ]
  },
  {
   "cell_type": "code",
   "execution_count": null,
   "id": "686bb455",
   "metadata": {},
   "outputs": [],
   "source": []
  },
  {
   "cell_type": "markdown",
   "id": "03a44f35",
   "metadata": {},
   "source": [
    "#### Part C - Support Vector Machine"
   ]
  },
  {
   "cell_type": "code",
   "execution_count": null,
   "id": "4a436aa7",
   "metadata": {},
   "outputs": [],
   "source": []
  },
  {
   "cell_type": "markdown",
   "id": "eace74fe",
   "metadata": {},
   "source": [
    "#### Part D - Neural Network"
   ]
  },
  {
   "cell_type": "code",
   "execution_count": null,
   "id": "998e9f03",
   "metadata": {},
   "outputs": [],
   "source": []
  },
  {
   "cell_type": "markdown",
   "id": "dabf1630",
   "metadata": {},
   "source": [
    "## Task 3"
   ]
  },
  {
   "cell_type": "markdown",
   "id": "ec2b8cf0",
   "metadata": {},
   "source": [
    "#### Part A - Training/Validation Proportion Parameter"
   ]
  },
  {
   "cell_type": "code",
   "execution_count": null,
   "id": "61076dbf",
   "metadata": {},
   "outputs": [],
   "source": []
  },
  {
   "cell_type": "markdown",
   "id": "ac5e6259",
   "metadata": {},
   "source": [
    "#### Part B - 5-Fold Cross-Validation Model Performance Assessments"
   ]
  },
  {
   "cell_type": "markdown",
   "id": "656efb39",
   "metadata": {},
   "source": []
  },
  {
   "cell_type": "markdown",
   "id": "012c65b3",
   "metadata": {},
   "source": [
    "#### Part C - Report and Compare Classifiers"
   ]
  },
  {
   "cell_type": "markdown",
   "id": "a1b4f63f",
   "metadata": {},
   "source": []
  }
 ],
 "metadata": {
  "language_info": {
   "name": "python"
  }
 },
 "nbformat": 4,
 "nbformat_minor": 5
}
